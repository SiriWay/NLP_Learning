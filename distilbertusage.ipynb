{
  "cells": [
    {
      "cell_type": "code",
      "execution_count": null,
      "id": "e0d5c964",
      "metadata": {
        "id": "e0d5c964"
      },
      "outputs": [],
      "source": [
        "import nltk\n",
        "nltk.download('punkt')"
      ]
    },
    {
      "cell_type": "code",
      "execution_count": null,
      "id": "b416fc69",
      "metadata": {
        "id": "b416fc69"
      },
      "outputs": [],
      "source": [
        "from nltk.tokenize import word_tokenize\n",
        "text=\"We are learning NLP, 500$700 and #900 steps in today's session\"\n",
        "tokens=word_tokenize(text)\n",
        "print(tokens)"
      ]
    },
    {
      "cell_type": "code",
      "execution_count": null,
      "id": "a382d7ea",
      "metadata": {
        "id": "a382d7ea"
      },
      "outputs": [],
      "source": [
        "from nltk.stem import PorterStemmer\n",
        "ps=PorterStemmer()\n",
        "words=[\"playing\",\"played\",\"went\"]\n",
        "for w in words:\n",
        "    rword=ps.stem(w)\n",
        "    print(rword)"
      ]
    },
    {
      "cell_type": "code",
      "execution_count": null,
      "id": "3d0a9693",
      "metadata": {
        "id": "3d0a9693"
      },
      "outputs": [],
      "source": [
        "from nltk.stem import WordNetLemmatizer\n",
        "l=WordNetLemmatizer()\n",
        "print(l.lemmatize(\"better\",pos=\"a\"))\n",
        "print(l.lemmatize(\"gone\",pos=\"v\"))\n",
        "print(l.lemmatize(\"went\",pos=\"v\"))"
      ]
    },
    {
      "cell_type": "code",
      "execution_count": null,
      "id": "0ab56725",
      "metadata": {
        "id": "0ab56725"
      },
      "outputs": [],
      "source": [
        "from nltk import pos_tag,word_tokenize\n",
        "text=\"We are learning NLP, 500$700 and #900 steps in today's session\"\n",
        "print(pos_tag(word_tokenize(text)))"
      ]
    },
    {
      "cell_type": "code",
      "execution_count": null,
      "id": "6d414277",
      "metadata": {
        "id": "6d414277"
      },
      "outputs": [],
      "source": [
        "import re"
      ]
    },
    {
      "cell_type": "code",
      "execution_count": null,
      "id": "1fbce2b2",
      "metadata": {
        "id": "1fbce2b2"
      },
      "outputs": [],
      "source": [
        "text1=\"Hi, I have an issue with my order #02134567\"\n",
        "text2=\"My order 02134567 is having some issue\"\n",
        "text3=\"I have ordered a headset and it has some issue, here is my order number 02134567\""
      ]
    },
    {
      "cell_type": "code",
      "execution_count": null,
      "id": "3c6393c7",
      "metadata": {
        "id": "3c6393c7"
      },
      "outputs": [],
      "source": [
        "n_pattern=\"order[^\\d]*(\\d*)\"\n",
        "n_matches=re.findall(n_pattern,text3)\n",
        "n_matches"
      ]
    },
    {
      "cell_type": "code",
      "execution_count": null,
      "id": "e0a56f19",
      "metadata": {
        "id": "e0a56f19"
      },
      "outputs": [],
      "source": [
        "text4=\"Phone: 1234567891 email: abc@xyz.com\"\n",
        "text5=\"Here it is: (123)-456-7891 abc3dfg@xyz.co.in\"\n",
        "text6=\"1234567891, abc_hgk@xyz.com\""
      ]
    },
    {
      "cell_type": "code",
      "execution_count": null,
      "id": "f9bd3bd5",
      "metadata": {
        "id": "f9bd3bd5"
      },
      "outputs": [],
      "source": [
        "m_pattern=\"\\d{10}|\\(\\d{3}\\)-\\d{3}-\\d{4}\"\n",
        "m_matches=re.findall(m_pattern,text6)\n",
        "m_matches"
      ]
    },
    {
      "cell_type": "code",
      "execution_count": null,
      "id": "eb4af636",
      "metadata": {
        "id": "eb4af636"
      },
      "outputs": [],
      "source": [
        "e_pattern=\"[a-zA-Z0-9_.]*@[a-zA-Z]*\\.[a-zA-Z.]*\"\n",
        "e_matches=re.findall(e_pattern,text6)\n",
        "e_matches"
      ]
    },
    {
      "cell_type": "code",
      "execution_count": null,
      "id": "bcf8cbff",
      "metadata": {
        "id": "bcf8cbff"
      },
      "outputs": [],
      "source": [
        "import re\n",
        "text='''Born\tMukesh Dhirubhai Ambani\n",
        "19 April 1957 (age 65)\n",
        "Aden, Colony of Aden\n",
        "(present-day Yemen)[1][2]\n",
        "Nationality\tIndian\n",
        "Alma mater\t\n",
        "St. Xavier's College, Mumbai\n",
        "Institute of Chemical Technology (B.E.)\n",
        "Stanford University (drop-out)\n",
        "Occupation\tChairman and MD, Reliance Industries\n",
        "Spouse(s)\tNita Ambani ​(m. 1985)​[3]\n",
        "Children\t3\n",
        "Parent(s)\t\n",
        "Dhirubhai Ambani (father)\n",
        "Relatives\tAnil Ambani (brother)\n",
        "Tina Ambani (sister-in-law)'''"
      ]
    },
    {
      "cell_type": "code",
      "execution_count": null,
      "id": "cea5bc7a",
      "metadata": {
        "id": "cea5bc7a"
      },
      "outputs": [],
      "source": [
        "def get_pattern_match(pattern,text):\n",
        "    match=re.findall(pattern,text)\n",
        "    if match:\n",
        "        return match[0]\n",
        "    else:\n",
        "        return None"
      ]
    },
    {
      "cell_type": "code",
      "execution_count": null,
      "id": "29d788d3",
      "metadata": {
        "id": "29d788d3"
      },
      "outputs": [],
      "source": [
        "def get_info(text):\n",
        "    age=get_pattern_match('age (\\d+)',text)\n",
        "    name=get_pattern_match('Born(.*)\\n',text)\n",
        "    bdate=get_pattern_match('Born.*\\n(.*)\\(age',text)\n",
        "    bplace=get_pattern_match('\\(age.*\\n(.*)',text)\n",
        "    return{\n",
        "        'age':age,\n",
        "        'Name': name.strip(),\n",
        "        'DOB':bdate.strip(),\n",
        "        'POB':bplace.strip()\n",
        "    }"
      ]
    },
    {
      "cell_type": "code",
      "execution_count": null,
      "id": "b7b39938",
      "metadata": {
        "id": "b7b39938"
      },
      "outputs": [],
      "source": [
        "get_info(text)"
      ]
    },
    {
      "cell_type": "code",
      "execution_count": null,
      "id": "7cdb5f6e",
      "metadata": {
        "id": "7cdb5f6e"
      },
      "outputs": [],
      "source": [
        "from nltk.chunk.regexp import RegexpParser\n",
        "from nltk.tree import Tree\n",
        "from nltk.tokenize import word_tokenize\n",
        "text=input()\n",
        "tokens=word_tokenize(text)\n",
        "tags=pos_tag(tokens)\n",
        "print(tags)\n",
        "grammar=\"NP:{<DT>*<JJ>*<NN.*>}\"\n",
        "cp=nltk.RegexpParser(grammar)\n",
        "res=cp.parse(tags)\n",
        "print(res)\n",
        "res.draw()"
      ]
    },
    {
      "cell_type": "code",
      "execution_count": null,
      "id": "1da61e7a",
      "metadata": {
        "id": "1da61e7a"
      },
      "outputs": [],
      "source": [
        "\n",
        "from sklearn.feature_extraction.text import TfidfVectorizer\n",
        "text=[\"The cycle is ridden on the track\",\n",
        "     \"The bus is driven on the road\"]\n",
        "vect=TfidfVectorizer()\n",
        "vect.fit(text)\n",
        "print(vect.vocabulary_)\n",
        "print(vect.idf_)"
      ]
    },
    {
      "cell_type": "code",
      "execution_count": null,
      "id": "e7e3a0e4",
      "metadata": {
        "id": "e7e3a0e4"
      },
      "outputs": [],
      "source": [
        "import tensorflow_hub as hub\n",
        "import tensorflow_text as text"
      ]
    },
    {
      "cell_type": "code",
      "execution_count": null,
      "id": "18d40c73",
      "metadata": {
        "id": "18d40c73"
      },
      "outputs": [],
      "source": [
        "preprocess_url=\"https://tfhub.dev/tensorflow/bert_en_uncased_preprocess/3\"\n",
        "encoder_url=\"https://tfhub.dev/tensorflow/bert_en_uncased_L-12_H-768_A-12/4\""
      ]
    },
    {
      "cell_type": "code",
      "execution_count": null,
      "id": "dcf74227",
      "metadata": {
        "id": "dcf74227"
      },
      "outputs": [],
      "source": [
        "text_test=[\"nice movie\",\"I love India\",\"The main lead in the movie sucks\"]\n",
        "bert_preprocess_model=hub.KerasLayer(preprocess_url)\n",
        "text_preprocessed=bert_preprocess_model(text_test)\n",
        "text_preprocessed.keys()"
      ]
    },
    {
      "cell_type": "code",
      "execution_count": null,
      "id": "d0e6a682",
      "metadata": {
        "id": "d0e6a682"
      },
      "outputs": [],
      "source": [
        "text_preprocessed['input_mask']\n",
        "#CLS nice movie SEP"
      ]
    },
    {
      "cell_type": "code",
      "execution_count": null,
      "id": "7482c3b7",
      "metadata": {
        "id": "7482c3b7"
      },
      "outputs": [],
      "source": [
        "bert_model=hub.KerasLayer(encoder_url)\n",
        "bert_results=bert_model(text_preprocessed)\n",
        "bert_results.keys()"
      ]
    },
    {
      "cell_type": "code",
      "execution_count": null,
      "id": "5761ad89",
      "metadata": {
        "id": "5761ad89"
      },
      "outputs": [],
      "source": [
        "bert_results['pooled_output']"
      ]
    },
    {
      "cell_type": "code",
      "execution_count": null,
      "id": "0120ff8b",
      "metadata": {
        "id": "0120ff8b"
      },
      "outputs": [],
      "source": [
        "bert_results['encoder_outputs']"
      ]
    },
    {
      "cell_type": "code",
      "execution_count": null,
      "id": "1d175607",
      "metadata": {
        "id": "1d175607"
      },
      "outputs": [],
      "source": [
        "bert_results['encoder_outputs'][0]"
      ]
    },
    {
      "cell_type": "code",
      "execution_count": null,
      "id": "d4a19738",
      "metadata": {
        "id": "d4a19738"
      },
      "outputs": [],
      "source": [
        "bert_results['encoder_outputs'][-1]==bert_results['sequence_output']"
      ]
    },
    {
      "cell_type": "code",
      "execution_count": null,
      "id": "3ed670ec",
      "metadata": {
        "id": "3ed670ec"
      },
      "outputs": [],
      "source": [
        "from transformers import pipeline\n",
        "classifier = pipeline(\"sentiment-analysis\")"
      ]
    },
    {
      "cell_type": "code",
      "execution_count": null,
      "id": "467cca03",
      "metadata": {
        "id": "467cca03"
      },
      "outputs": [],
      "source": [
        "classifier(\"nice movie\")"
      ]
    },
    {
      "cell_type": "code",
      "execution_count": null,
      "id": "17752c2e",
      "metadata": {
        "id": "17752c2e"
      },
      "outputs": [],
      "source": [
        "classifier(\"I am hungry\")"
      ]
    },
    {
      "cell_type": "code",
      "execution_count": null,
      "id": "2e1375fe",
      "metadata": {
        "id": "2e1375fe"
      },
      "outputs": [],
      "source": [
        "classifier(\"It's ok to eat pizza but i dont hate it\")"
      ]
    },
    {
      "cell_type": "code",
      "execution_count": null,
      "id": "9d8ef50a",
      "metadata": {
        "id": "9d8ef50a"
      },
      "outputs": [],
      "source": [
        "classifier(\"movie is not so bad its ok to watch one time\")"
      ]
    },
    {
      "cell_type": "code",
      "execution_count": null,
      "id": "d55c5e29",
      "metadata": {
        "id": "d55c5e29"
      },
      "outputs": [],
      "source": [
        "classifier(\"my name is sree\")"
      ]
    },
    {
      "cell_type": "code",
      "execution_count": null,
      "id": "42f600a9",
      "metadata": {
        "id": "42f600a9"
      },
      "outputs": [],
      "source": [
        "classifier(\"When people ask me stupid questions, it is my legal obligation to give a sarcastic remark.\")"
      ]
    },
    {
      "cell_type": "code",
      "execution_count": null,
      "id": "fcb76937",
      "metadata": {
        "id": "fcb76937"
      },
      "outputs": [],
      "source": [
        "classifier(\"I’m not saying I hate you, what I’m saying is that you are literally the Monday of my life\")"
      ]
    },
    {
      "cell_type": "code",
      "execution_count": null,
      "id": "b5a066e4",
      "metadata": {
        "id": "b5a066e4"
      },
      "outputs": [],
      "source": [
        "classifier(\"I am busy right now, can I ignore you some other time?\")"
      ]
    },
    {
      "cell_type": "code",
      "execution_count": null,
      "id": "ec9718cb",
      "metadata": {
        "id": "ec9718cb"
      },
      "outputs": [],
      "source": [
        "classifier(\"I’m not sure if I like the new design\")"
      ]
    },
    {
      "cell_type": "code",
      "execution_count": null,
      "id": "e056a8e1",
      "metadata": {
        "id": "e056a8e1"
      },
      "outputs": [],
      "source": [
        "import pandas as pd\n",
        "df=pd.read_csv(\"SMSSpamCollection.tsv\",sep=\"\\t\",names=['label',\"message\"])\n",
        "df.head()"
      ]
    },
    {
      "cell_type": "markdown",
      "source": [
        "# New Section"
      ],
      "metadata": {
        "id": "Td6IC_Hr1Tzn"
      },
      "id": "Td6IC_Hr1Tzn"
    },
    {
      "cell_type": "code",
      "execution_count": null,
      "id": "1d253466",
      "metadata": {
        "id": "1d253466"
      },
      "outputs": [],
      "source": [
        "X=list(df['message'])\n",
        "X"
      ]
    },
    {
      "cell_type": "code",
      "execution_count": null,
      "id": "a9b52426",
      "metadata": {
        "id": "a9b52426"
      },
      "outputs": [],
      "source": [
        "y=list(df['label'])\n",
        "y"
      ]
    },
    {
      "cell_type": "code",
      "execution_count": null,
      "id": "a04cd96d",
      "metadata": {
        "id": "a04cd96d"
      },
      "outputs": [],
      "source": [
        "y=list(pd.get_dummies(df,columns=['label'],drop_first=True)['label_spam'])\n",
        "y"
      ]
    },
    {
      "cell_type": "code",
      "execution_count": null,
      "id": "57f102d1",
      "metadata": {
        "id": "57f102d1"
      },
      "outputs": [],
      "source": [
        "from sklearn.model_selection import train_test_split\n",
        "X_train,X_test,y_train,y_yest=train_test_split(X,y,test_size=0.20,random_state=0)"
      ]
    },
    {
      "cell_type": "code",
      "execution_count": null,
      "id": "e8e687de",
      "metadata": {
        "id": "e8e687de"
      },
      "outputs": [],
      "source": [
        "!pip install transformers\n",
        "from transformers import DistilBertTokenizerFast"
      ]
    },
    {
      "cell_type": "code",
      "execution_count": null,
      "id": "8eb9d668",
      "metadata": {
        "id": "8eb9d668"
      },
      "outputs": [],
      "source": [
        "tokenizer=DistilBertTokenizerFast.from_pretrained('distilbert-base-uncased')\n",
        "train_encoders=tokenizer(X_train,truncation=True,padding=True)\n",
        "test_encoders=tokenizer(X_test,truncation=True,padding=True)"
      ]
    },
    {
      "cell_type": "code",
      "execution_count": null,
      "id": "4e44f5d9",
      "metadata": {
        "id": "4e44f5d9"
      },
      "outputs": [],
      "source": [
        "train_encoders"
      ]
    },
    {
      "cell_type": "code",
      "execution_count": null,
      "id": "577529ef",
      "metadata": {
        "id": "577529ef"
      },
      "outputs": [],
      "source": [
        "#convert these encodings into dataset object\n",
        "import tensorflow as tf\n",
        "train_datset=tf.data.Dataset.from_tensor_slices((dict(train_encoders),y_train))\n",
        "test_datset=tf.data.Dataset.from_tensor_slices((dict(test_encoders),y_yest))\n",
        "test_datset"
      ]
    },
    {
      "cell_type": "code",
      "execution_count": null,
      "id": "5a35e3c6",
      "metadata": {
        "id": "5a35e3c6"
      },
      "outputs": [],
      "source": [
        "train_datset"
      ]
    },
    {
      "cell_type": "code",
      "execution_count": null,
      "id": "f6edc26a",
      "metadata": {
        "id": "f6edc26a"
      },
      "outputs": [],
      "source": [
        "from transformers import TFDistilBertForSequenceClassification,TFTrainer,TFTrainingArguments"
      ]
    },
    {
      "cell_type": "code",
      "execution_count": null,
      "id": "df47cab1",
      "metadata": {
        "id": "df47cab1"
      },
      "outputs": [],
      "source": [
        "training_arg=TFTrainingArguments(output_dir=\"./output\", \n",
        "                                 num_train_epochs=2,\n",
        "                                 per_device_train_batch_size=4, \n",
        "                                 per_device_eval_batch_size=8,\n",
        "                                 eval_steps=10,\n",
        "                                 warmup_steps=500,\n",
        "                                 weight_decay=0.01,\n",
        "                                logging_dir=\"./logs\")"
      ]
    },
    {
      "cell_type": "code",
      "execution_count": null,
      "id": "4c475e8a",
      "metadata": {
        "id": "4c475e8a"
      },
      "outputs": [],
      "source": [
        "with training_arg.strategy.scope():\n",
        "    model=TFDistilBertForSequenceClassification.from_pretrained('distilbert-base-uncased')\n",
        "    trainer=TFTrainer(\n",
        "    model=model,\n",
        "    args=training_arg,\n",
        "    train_dataset=train_datset,\n",
        "    eval_dataset=test_datset\n",
        "    )\n",
        "    trainer.train()"
      ]
    },
    {
      "cell_type": "code",
      "execution_count": null,
      "id": "c6e293d2",
      "metadata": {
        "id": "c6e293d2"
      },
      "outputs": [],
      "source": [
        "trainer.evaluate(test_datset)"
      ]
    },
    {
      "cell_type": "code",
      "execution_count": null,
      "id": "e3ddbc9e",
      "metadata": {
        "id": "e3ddbc9e"
      },
      "outputs": [],
      "source": [
        "output=trainer.predict(test_datset)[1]\n",
        "output"
      ]
    },
    {
      "cell_type": "code",
      "source": [
        ""
      ],
      "metadata": {
        "id": "8z0U-P_m5-2r"
      },
      "id": "8z0U-P_m5-2r",
      "execution_count": null,
      "outputs": []
    }
  ],
  "metadata": {
    "kernelspec": {
      "display_name": "Python 3 (ipykernel)",
      "language": "python",
      "name": "python3"
    },
    "language_info": {
      "codemirror_mode": {
        "name": "ipython",
        "version": 3
      },
      "file_extension": ".py",
      "mimetype": "text/x-python",
      "name": "python",
      "nbconvert_exporter": "python",
      "pygments_lexer": "ipython3",
      "version": "3.7.6"
    },
    "colab": {
      "name": "distilbertusage.ipynb",
      "private_outputs": true,
      "provenance": [],
      "collapsed_sections": []
    },
    "accelerator": "GPU",
    "gpuClass": "standard"
  },
  "nbformat": 4,
  "nbformat_minor": 5
}